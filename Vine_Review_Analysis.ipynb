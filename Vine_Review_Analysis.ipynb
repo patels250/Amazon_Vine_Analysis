{
 "cells": [
  {
   "cell_type": "code",
   "execution_count": 1,
   "metadata": {
    "colab": {
     "base_uri": "https://localhost:8080/"
    },
    "id": "n1DKNvZ9JRMN",
    "outputId": "db782da1-f5be-4149-cd51-7ec72dff82f7"
   },
   "outputs": [
    {
     "name": "stdout",
     "output_type": "stream",
     "text": [
      "\r",
      "0% [Working]\r",
      "            \r",
      "Get:1 http://security.ubuntu.com/ubuntu bionic-security InRelease [88.7 kB]\n",
      "\r",
      "0% [Connecting to archive.ubuntu.com (91.189.88.152)] [1 InRelease 14.2 kB/88.7\r",
      "                                                                               \r",
      "Get:2 https://cloud.r-project.org/bin/linux/ubuntu bionic-cran40/ InRelease [3,626 B]\n",
      "Ign:3 https://developer.download.nvidia.com/compute/cuda/repos/ubuntu1804/x86_64  InRelease\n",
      "Get:4 http://ppa.launchpad.net/c2d4u.team/c2d4u4.0+/ubuntu bionic InRelease [15.9 kB]\n",
      "Hit:5 http://archive.ubuntu.com/ubuntu bionic InRelease\n",
      "Ign:6 https://developer.download.nvidia.com/compute/machine-learning/repos/ubuntu1804/x86_64  InRelease\n",
      "Get:7 https://developer.download.nvidia.com/compute/cuda/repos/ubuntu1804/x86_64  Release [697 B]\n",
      "Hit:8 https://developer.download.nvidia.com/compute/machine-learning/repos/ubuntu1804/x86_64  Release\n",
      "Get:9 https://developer.download.nvidia.com/compute/cuda/repos/ubuntu1804/x86_64  Release.gpg [836 B]\n",
      "Get:10 http://archive.ubuntu.com/ubuntu bionic-updates InRelease [88.7 kB]\n",
      "Hit:11 http://ppa.launchpad.net/cran/libgit2/ubuntu bionic InRelease\n",
      "Get:12 https://cloud.r-project.org/bin/linux/ubuntu bionic-cran40/ Packages [56.8 kB]\n",
      "Get:13 http://archive.ubuntu.com/ubuntu bionic-backports InRelease [74.6 kB]\n",
      "Hit:14 http://ppa.launchpad.net/deadsnakes/ppa/ubuntu bionic InRelease\n",
      "Get:15 http://ppa.launchpad.net/graphics-drivers/ppa/ubuntu bionic InRelease [21.3 kB]\n",
      "Get:16 http://security.ubuntu.com/ubuntu bionic-security/universe amd64 Packages [1,411 kB]\n",
      "Get:17 http://security.ubuntu.com/ubuntu bionic-security/restricted amd64 Packages [423 kB]\n",
      "Get:18 http://security.ubuntu.com/ubuntu bionic-security/main amd64 Packages [2,150 kB]\n",
      "Get:20 http://ppa.launchpad.net/c2d4u.team/c2d4u4.0+/ubuntu bionic/main Sources [1,761 kB]\n",
      "Ign:21 https://developer.download.nvidia.com/compute/cuda/repos/ubuntu1804/x86_64  Packages\n",
      "Get:21 https://developer.download.nvidia.com/compute/cuda/repos/ubuntu1804/x86_64  Packages [772 kB]\n",
      "Get:22 http://ppa.launchpad.net/c2d4u.team/c2d4u4.0+/ubuntu bionic/main amd64 Packages [901 kB]\n",
      "Get:23 http://archive.ubuntu.com/ubuntu bionic-updates/universe amd64 Packages [2,183 kB]\n",
      "Get:24 http://archive.ubuntu.com/ubuntu bionic-updates/restricted amd64 Packages [452 kB]\n",
      "Get:25 http://archive.ubuntu.com/ubuntu bionic-updates/main amd64 Packages [2,582 kB]\n",
      "Get:26 http://ppa.launchpad.net/graphics-drivers/ppa/ubuntu bionic/main amd64 Packages [41.5 kB]\n",
      "Fetched 13.0 MB in 4s (3,229 kB/s)\n",
      "Reading package lists... Done\n"
     ]
    }
   ],
   "source": [
    "import os\n",
    "# Find the latest version of spark 2.0  from http://www-us.apache.org/dist/spark/ and enter as the spark version\n",
    "# For example:\n",
    "# spark_version = 'spark-3.0.0'\n",
    "spark_version = 'spark-3.1.1'\n",
    "os.environ['SPARK_VERSION']=spark_version\n",
    "\n",
    "# Install Spark and Java\n",
    "!apt-get update\n",
    "!apt-get install openjdk-11-jdk-headless -qq > /dev/null\n",
    "!wget -q http://www-us.apache.org/dist/spark/$SPARK_VERSION/$SPARK_VERSION-bin-hadoop2.7.tgz\n",
    "!tar xf $SPARK_VERSION-bin-hadoop2.7.tgz\n",
    "!pip install -q findspark\n",
    "\n",
    "# Set Environment Variables\n",
    "import os\n",
    "os.environ[\"JAVA_HOME\"] = \"/usr/lib/jvm/java-11-openjdk-amd64\"\n",
    "os.environ[\"SPARK_HOME\"] = f\"/content/{spark_version}-bin-hadoop2.7\"\n",
    "\n",
    "# Start a SparkSession\n",
    "import findspark\n",
    "findspark.init()"
   ]
  },
  {
   "cell_type": "code",
   "execution_count": 2,
   "metadata": {
    "colab": {
     "base_uri": "https://localhost:8080/"
    },
    "id": "NDOz8l1iKzwo",
    "outputId": "f771b5a7-e1a7-44e6-c7fa-5ee946aad421"
   },
   "outputs": [
    {
     "name": "stdout",
     "output_type": "stream",
     "text": [
      "--2021-05-14 09:18:11--  https://jdbc.postgresql.org/download/postgresql-42.2.16.jar\n",
      "Resolving jdbc.postgresql.org (jdbc.postgresql.org)... 72.32.157.228, 2001:4800:3e1:1::228\n",
      "Connecting to jdbc.postgresql.org (jdbc.postgresql.org)|72.32.157.228|:443... connected.\n",
      "HTTP request sent, awaiting response... 200 OK\n",
      "Length: 1002883 (979K) [application/java-archive]\n",
      "Saving to: ‘postgresql-42.2.16.jar’\n",
      "\n",
      "postgresql-42.2.16. 100%[===================>] 979.38K  5.71MB/s    in 0.2s    \n",
      "\n",
      "2021-05-14 09:18:12 (5.71 MB/s) - ‘postgresql-42.2.16.jar’ saved [1002883/1002883]\n",
      "\n"
     ]
    }
   ],
   "source": [
    "# Download the Postgres driver that will allow Spark to interact with Postgres.\n",
    "!wget https://jdbc.postgresql.org/download/postgresql-42.2.16.jar"
   ]
  },
  {
   "cell_type": "code",
   "execution_count": 4,
   "metadata": {
    "id": "ihv6wrmaK4T4"
   },
   "outputs": [],
   "source": [
    "from pyspark.sql import SparkSession\n",
    "spark = SparkSession.builder.appName(\"BigData-Challenge\").config(\"spark.driver.extraClassPath\",\"/content/postgresql-42.2.16.jar\").getOrCreate()"
   ]
  },
  {
   "cell_type": "code",
   "execution_count": 5,
   "metadata": {
    "colab": {
     "base_uri": "https://localhost:8080/"
    },
    "id": "1Ejka2d4LHSc",
    "outputId": "98915fdf-e7eb-4b1d-974a-213d54b7919a"
   },
   "outputs": [
    {
     "name": "stdout",
     "output_type": "stream",
     "text": [
      "+-----------+-----------+--------------+----------+--------------+--------------------+--------------------+-----------+-------------+-----------+----+-----------------+--------------------+--------------------+-----------+\n",
      "|marketplace|customer_id|     review_id|product_id|product_parent|       product_title|    product_category|star_rating|helpful_votes|total_votes|vine|verified_purchase|     review_headline|         review_body|review_date|\n",
      "+-----------+-----------+--------------+----------+--------------+--------------------+--------------------+-----------+-------------+-----------+----+-----------------+--------------------+--------------------+-----------+\n",
      "|         US|     650634| R3EQSTM9PWRAL|B0091LBZSU|     578484426|Demograss Capsule...|Health & Personal...|          3|            0|          0|   N|                Y|         Three Stars|Only came with 30...| 2015-08-31|\n",
      "|         US|   19827510| RBWPRK17XKIXD|B00PWW3LQ6|     456433146|Viva Labs #1 Prem...|Health & Personal...|          5|            0|          0|   N|                Y|A good portable s...|Really yummy and ...| 2015-08-31|\n",
      "|         US|    1520474| RRSLOAF273XFC|B00DKEWA92|     460764511|     Whip-it Cleaner|Health & Personal...|          5|            1|          2|   N|                Y|       You need this|You cannot go wro...| 2015-08-31|\n",
      "|         US|   23905905|R3S8W9Q6SWIT8O|B0015R3A7M|     135102038|Optimum Nutrition...|Health & Personal...|          4|            0|          0|   N|                Y|this is a good vi...|This is a good da...| 2015-08-31|\n",
      "|         US|   28215779|R3QQ6NSLRVBFJC|B006B8U8BG|     200666829|Wet-Stop3 Bedwett...|Health & Personal...|          4|            0|          0|   N|                Y|progress is defin...|We have been usin...| 2015-08-31|\n",
      "+-----------+-----------+--------------+----------+--------------+--------------------+--------------------+-----------+-------------+-----------+----+-----------------+--------------------+--------------------+-----------+\n",
      "only showing top 5 rows\n",
      "\n"
     ]
    }
   ],
   "source": [
    "from pyspark import SparkFiles\n",
    "url = \"https://s3.amazonaws.com/amazon-reviews-pds/tsv/amazon_reviews_us_Health_Personal_Care_v1_00.tsv.gz\"\n",
    "spark.sparkContext.addFile(url)\n",
    "df = spark.read.option(\"encoding\", \"UTF-8\").csv(SparkFiles.get(\"amazon_reviews_us_Health_Personal_Care_v1_00.tsv.gz\"), sep=\"\\t\", header=True, inferSchema=True)\n",
    "df.show(5)"
   ]
  },
  {
   "cell_type": "code",
   "execution_count": 20,
   "metadata": {
    "colab": {
     "base_uri": "https://localhost:8080/"
    },
    "id": "VwAFRTb0ThCz",
    "outputId": "f021f487-6386-4d31-b416-3ce23d5a4a3c"
   },
   "outputs": [
    {
     "name": "stdout",
     "output_type": "stream",
     "text": [
      "+--------------+-----------+-------------+-----------+----+-----------------+\n",
      "|     review_id|star_rating|helpful_votes|total_votes|vine|verified_purchase|\n",
      "+--------------+-----------+-------------+-----------+----+-----------------+\n",
      "| R3EQSTM9PWRAL|          3|            0|          0|   N|                Y|\n",
      "| RBWPRK17XKIXD|          5|            0|          0|   N|                Y|\n",
      "| RRSLOAF273XFC|          5|            1|          2|   N|                Y|\n",
      "|R3S8W9Q6SWIT8O|          4|            0|          0|   N|                Y|\n",
      "|R3QQ6NSLRVBFJC|          4|            0|          0|   N|                Y|\n",
      "|R2XYDBMHUVJCSX|          2|            0|          1|   N|                Y|\n",
      "|R1L94ESVC657A9|          5|            0|          0|   N|                Y|\n",
      "|R3DI4B8LDWFQ3K|          1|            3|          4|   N|                Y|\n",
      "|R1G7VV4HCXUQQL|          5|            0|          0|   N|                Y|\n",
      "|R3TTNYN1TAMUSU|          5|            0|          0|   N|                Y|\n",
      "|R3AMX2D9HMWV6Z|          5|            0|          0|   N|                Y|\n",
      "|R3PO3K321GY8HI|          1|            0|          0|   N|                Y|\n",
      "| RVQ0UNYX6IEVK|          1|            0|          1|   N|                Y|\n",
      "|R25E9NIGO2XQ3D|          5|            0|          0|   N|                Y|\n",
      "|R3GIEXIIIR2G9Y|          1|            0|          0|   N|                Y|\n",
      "|R264BH3U417NXF|          5|            0|          0|   N|                Y|\n",
      "|R2C6S0XJIMP0Z2|          5|            0|          0|   N|                Y|\n",
      "|R2LRJYGC2YYR2F|          2|            0|          0|   N|                Y|\n",
      "|R3SVW9ZP1CZPW7|          1|            0|          1|   N|                Y|\n",
      "|R1GLA6RQUF4Q79|          4|            0|          0|   N|                Y|\n",
      "+--------------+-----------+-------------+-----------+----+-----------------+\n",
      "only showing top 20 rows\n",
      "\n"
     ]
    }
   ],
   "source": [
    "# Create the vine_table. DataFrame\n",
    "vine_df = df.select([\"review_id\", \"star_rating\", \"helpful_votes\", \"total_votes\", \"vine\", \"verified_purchase\"])\n",
    "vine_df.show()"
   ]
  },
  {
   "cell_type": "code",
   "execution_count": 21,
   "metadata": {
    "colab": {
     "base_uri": "https://localhost:8080/"
    },
    "id": "Jz-GRVW2LWZR",
    "outputId": "b4f9784d-24b9-48be-d3fa-63a22a7b251e"
   },
   "outputs": [
    {
     "name": "stdout",
     "output_type": "stream",
     "text": [
      "+--------------+-----------+-------------+-----------+----+-----------------+\n",
      "|     review_id|star_rating|helpful_votes|total_votes|vine|verified_purchase|\n",
      "+--------------+-----------+-------------+-----------+----+-----------------+\n",
      "|R2984F9VD9WDJB|          1|           37|         46|   N|                Y|\n",
      "|R218TGWCIAZYNY|          5|          191|        198|   N|                Y|\n",
      "| RGC2TLSBHLPZA|          5|           49|         50|   N|                Y|\n",
      "|R2YYVOW2RYGRM8|          5|           27|         28|   N|                Y|\n",
      "|R2X4WF89XICSB2|          1|           21|         21|   N|                Y|\n",
      "|R1M1KJ4SQE4INF|          5|           20|         21|   N|                N|\n",
      "|R1M8EEGH2TVS0Q|          1|            6|         29|   N|                Y|\n",
      "| RK8MUEWEUGV6V|          4|          105|        113|   N|                N|\n",
      "|R3JF2SBRHZITRZ|          5|           24|         26|   N|                N|\n",
      "| RLJN73T8WUYIR|          5|          124|        128|   N|                Y|\n",
      "| RYA9ESIATW4EC|          1|           23|         27|   N|                N|\n",
      "|R15RF9IWXWX3IH|          5|           25|         31|   N|                N|\n",
      "|R1GNMWLUMCOC6V|          5|           21|         23|   N|                N|\n",
      "|R3F5N905ZVOXES|          1|            3|         35|   N|                N|\n",
      "|R2SLKTWAJ7BR9K|          5|           33|         36|   N|                Y|\n",
      "|R1NKKJ720BC2VM|          5|           25|         28|   N|                Y|\n",
      "|R3ATNR4AESV090|          4|           38|         40|   N|                Y|\n",
      "|R36XRSNV1M0ADW|          5|           82|         95|   N|                Y|\n",
      "|R203G800OB64XF|          3|           57|         72|   N|                N|\n",
      "|R119CG8XK73M2B|          5|           77|         77|   N|                Y|\n",
      "+--------------+-----------+-------------+-----------+----+-----------------+\n",
      "only showing top 20 rows\n",
      "\n"
     ]
    }
   ],
   "source": [
    "# Create helpful_reviews DataFrame\n",
    "helpful_reviews_df = vine_df.filter(vine_df.total_votes > \"20\")\n",
    "helpful_reviews_df.show()"
   ]
  },
  {
   "cell_type": "code",
   "execution_count": 41,
   "metadata": {
    "colab": {
     "base_uri": "https://localhost:8080/"
    },
    "id": "6LPbnb6wNmu6",
    "outputId": "54e898c3-4859-4867-cdfa-b888fa874c57"
   },
   "outputs": [
    {
     "name": "stdout",
     "output_type": "stream",
     "text": [
      "+--------------+-----------+-------------+-----------+----+-----------------+\n",
      "|     review_id|star_rating|helpful_votes|total_votes|vine|verified_purchase|\n",
      "+--------------+-----------+-------------+-----------+----+-----------------+\n",
      "|R2984F9VD9WDJB|          1|           37|         46|   N|                Y|\n",
      "|R218TGWCIAZYNY|          5|          191|        198|   N|                Y|\n",
      "| RGC2TLSBHLPZA|          5|           49|         50|   N|                Y|\n",
      "|R2YYVOW2RYGRM8|          5|           27|         28|   N|                Y|\n",
      "|R2X4WF89XICSB2|          1|           21|         21|   N|                Y|\n",
      "|R1M1KJ4SQE4INF|          5|           20|         21|   N|                N|\n",
      "| RK8MUEWEUGV6V|          4|          105|        113|   N|                N|\n",
      "|R3JF2SBRHZITRZ|          5|           24|         26|   N|                N|\n",
      "| RLJN73T8WUYIR|          5|          124|        128|   N|                Y|\n",
      "| RYA9ESIATW4EC|          1|           23|         27|   N|                N|\n",
      "|R15RF9IWXWX3IH|          5|           25|         31|   N|                N|\n",
      "|R1GNMWLUMCOC6V|          5|           21|         23|   N|                N|\n",
      "|R2SLKTWAJ7BR9K|          5|           33|         36|   N|                Y|\n",
      "|R1NKKJ720BC2VM|          5|           25|         28|   N|                Y|\n",
      "|R3ATNR4AESV090|          4|           38|         40|   N|                Y|\n",
      "|R36XRSNV1M0ADW|          5|           82|         95|   N|                Y|\n",
      "|R203G800OB64XF|          3|           57|         72|   N|                N|\n",
      "|R119CG8XK73M2B|          5|           77|         77|   N|                Y|\n",
      "| RCOVDTGR8NH87|          5|           59|         67|   N|                N|\n",
      "|R3EYJ89AGUHAMT|          2|           20|         27|   N|                Y|\n",
      "+--------------+-----------+-------------+-----------+----+-----------------+\n",
      "only showing top 20 rows\n",
      "\n"
     ]
    },
    {
     "data": {
      "text/plain": [
       "114313"
      ]
     },
     "execution_count": 41,
     "metadata": {
      "tags": []
     },
     "output_type": "execute_result"
    }
   ],
   "source": [
    "# Create helpful_rate DataFrame\n",
    "helpful_rate_df = helpful_reviews_df.filter(helpful_reviews_df.helpful_votes /helpful_reviews_df.total_votes >= \"0.50\")\n",
    "helpful_rate_df.show()\n",
    "helpful_rate_df.count()"
   ]
  },
  {
   "cell_type": "code",
   "execution_count": 39,
   "metadata": {
    "colab": {
     "base_uri": "https://localhost:8080/"
    },
    "id": "5FKfY8TUO1iP",
    "outputId": "811a11f4-97cc-4398-87e8-e5e3c45b5d70"
   },
   "outputs": [
    {
     "name": "stdout",
     "output_type": "stream",
     "text": [
      "+--------------+-----------+-------------+-----------+----+-----------------+\n",
      "|     review_id|star_rating|helpful_votes|total_votes|vine|verified_purchase|\n",
      "+--------------+-----------+-------------+-----------+----+-----------------+\n",
      "| RG70K1HMY4LXX|          4|           37|         44|   Y|                N|\n",
      "|R1DHGTNXDXJ0GB|          5|           78|         93|   Y|                N|\n",
      "|R3B5S3OSA8N6AO|          5|           38|         43|   Y|                N|\n",
      "|R29X0YBS0SBIUP|          5|           56|         74|   Y|                N|\n",
      "|R1ZEDMCU6NYC8Q|          3|           26|         27|   Y|                N|\n",
      "| RVBJM1LUI9X9K|          5|           27|         28|   Y|                N|\n",
      "| R1KASHD9QSDMV|          4|           18|         21|   Y|                N|\n",
      "|R1M3LATUI38MK0|          5|           46|         50|   Y|                N|\n",
      "|R20JZQ3AQVYNAU|          4|          103|        113|   Y|                N|\n",
      "|R1EHXYTMBO4D28|          1|           56|         61|   Y|                N|\n",
      "|R3FIEE8HAF008L|          1|           23|         26|   Y|                N|\n",
      "| RZJ5628PIAE8M|          4|           23|         23|   Y|                N|\n",
      "|R2YTV8JFB132UU|          5|           29|         35|   Y|                N|\n",
      "| R9B39IY63XE6H|          1|           88|         97|   Y|                N|\n",
      "|R3IYA2K7643J5F|          3|           28|         35|   Y|                N|\n",
      "|R25HQLXMBJABQL|          5|           93|         97|   Y|                N|\n",
      "|R1NCMEN9DCHB2U|          3|           92|        100|   Y|                N|\n",
      "| RFN5GI4LWX31V|          2|           43|         49|   Y|                N|\n",
      "|R1DLUEYOWRMJ2K|          5|          130|        142|   Y|                N|\n",
      "| RXDWRD20KTQO1|          4|           24|         24|   Y|                N|\n",
      "+--------------+-----------+-------------+-----------+----+-----------------+\n",
      "only showing top 20 rows\n",
      "\n"
     ]
    },
    {
     "data": {
      "text/plain": [
       "475"
      ]
     },
     "execution_count": 39,
     "metadata": {
      "tags": []
     },
     "output_type": "execute_result"
    }
   ],
   "source": [
    "# Create Vine Program DataFrame for reviews that are a part of the program\n",
    "vine_yes_df = helpful_rate_df.filter(helpful_rate_df.vine == \"Y\")\n",
    "vine_yes_df.show()\n",
    "vine_yes_df.count()"
   ]
  },
  {
   "cell_type": "code",
   "execution_count": 40,
   "metadata": {
    "colab": {
     "base_uri": "https://localhost:8080/"
    },
    "id": "pfs5bKunPiYj",
    "outputId": "f668361c-8d75-448c-aff3-78a6da558c11"
   },
   "outputs": [
    {
     "name": "stdout",
     "output_type": "stream",
     "text": [
      "+--------------+-----------+-------------+-----------+----+-----------------+\n",
      "|     review_id|star_rating|helpful_votes|total_votes|vine|verified_purchase|\n",
      "+--------------+-----------+-------------+-----------+----+-----------------+\n",
      "|R2984F9VD9WDJB|          1|           37|         46|   N|                Y|\n",
      "|R218TGWCIAZYNY|          5|          191|        198|   N|                Y|\n",
      "| RGC2TLSBHLPZA|          5|           49|         50|   N|                Y|\n",
      "|R2YYVOW2RYGRM8|          5|           27|         28|   N|                Y|\n",
      "|R2X4WF89XICSB2|          1|           21|         21|   N|                Y|\n",
      "|R1M1KJ4SQE4INF|          5|           20|         21|   N|                N|\n",
      "| RK8MUEWEUGV6V|          4|          105|        113|   N|                N|\n",
      "|R3JF2SBRHZITRZ|          5|           24|         26|   N|                N|\n",
      "| RLJN73T8WUYIR|          5|          124|        128|   N|                Y|\n",
      "| RYA9ESIATW4EC|          1|           23|         27|   N|                N|\n",
      "|R15RF9IWXWX3IH|          5|           25|         31|   N|                N|\n",
      "|R1GNMWLUMCOC6V|          5|           21|         23|   N|                N|\n",
      "|R2SLKTWAJ7BR9K|          5|           33|         36|   N|                Y|\n",
      "|R1NKKJ720BC2VM|          5|           25|         28|   N|                Y|\n",
      "|R3ATNR4AESV090|          4|           38|         40|   N|                Y|\n",
      "|R36XRSNV1M0ADW|          5|           82|         95|   N|                Y|\n",
      "|R203G800OB64XF|          3|           57|         72|   N|                N|\n",
      "|R119CG8XK73M2B|          5|           77|         77|   N|                Y|\n",
      "| RCOVDTGR8NH87|          5|           59|         67|   N|                N|\n",
      "|R3EYJ89AGUHAMT|          2|           20|         27|   N|                Y|\n",
      "+--------------+-----------+-------------+-----------+----+-----------------+\n",
      "only showing top 20 rows\n",
      "\n"
     ]
    },
    {
     "data": {
      "text/plain": [
       "113838"
      ]
     },
     "execution_count": 40,
     "metadata": {
      "tags": []
     },
     "output_type": "execute_result"
    }
   ],
   "source": [
    "# Create Vine Program DataFrame for reviews that are NOT a part of the program\n",
    "vine_no_df = helpful_rate_df.filter(helpful_rate_df.vine == \"N\")\n",
    "vine_no_df.show()\n",
    "vine_no_df.count()"
   ]
  },
  {
   "cell_type": "code",
   "execution_count": 42,
   "metadata": {
    "colab": {
     "base_uri": "https://localhost:8080/"
    },
    "id": "OU0OA9RcQlbe",
    "outputId": "3aed9612-8bf9-4e00-da0d-a54995c829fd"
   },
   "outputs": [
    {
     "data": {
      "text/plain": [
       "114313"
      ]
     },
     "execution_count": 42,
     "metadata": {
      "tags": []
     },
     "output_type": "execute_result"
    }
   ],
   "source": [
    "# Total number of reviews \n",
    "helpful_rate_df.count()"
   ]
  },
  {
   "cell_type": "code",
   "execution_count": 26,
   "metadata": {
    "colab": {
     "base_uri": "https://localhost:8080/"
    },
    "id": "NYNN7Pj-REkz",
    "outputId": "836d7b3d-bda7-42ad-84d6-262a5a3a80f6"
   },
   "outputs": [
    {
     "data": {
      "text/plain": [
       "71951"
      ]
     },
     "execution_count": 26,
     "metadata": {
      "tags": []
     },
     "output_type": "execute_result"
    }
   ],
   "source": [
    "# Total number of 5-star reviews\n",
    "five_stars_df = helpful_reviews_df.filter(helpful_reviews_df.star_rating == \"5\")\n",
    "five_stars_df.count()"
   ]
  },
  {
   "cell_type": "code",
   "execution_count": 27,
   "metadata": {
    "colab": {
     "base_uri": "https://localhost:8080/"
    },
    "id": "It8sqPilUdJe",
    "outputId": "8cc7dff0-c0b0-403a-c0db-d9725dbc15d1"
   },
   "outputs": [
    {
     "data": {
      "text/plain": [
       "214"
      ]
     },
     "execution_count": 27,
     "metadata": {
      "tags": []
     },
     "output_type": "execute_result"
    }
   ],
   "source": [
    "# Total number of paid (Vine Program) 5-star reviews\n",
    "\n",
    "vine_five_df = vine_yes_df.filter(vine_yes_df.star_rating == \"5\")\n",
    "vine_five_df.count()"
   ]
  },
  {
   "cell_type": "code",
   "execution_count": 28,
   "metadata": {
    "colab": {
     "base_uri": "https://localhost:8080/"
    },
    "id": "daAWDemSVEJo",
    "outputId": "96700d81-ad46-4666-e7b3-004253992188"
   },
   "outputs": [
    {
     "data": {
      "text/plain": [
       "70303"
      ]
     },
     "execution_count": 28,
     "metadata": {
      "tags": []
     },
     "output_type": "execute_result"
    }
   ],
   "source": [
    "# Total number of unpaid 5-star reviews\n",
    "other_five_df = vine_no_df.filter(vine_no_df.star_rating == \"5\")\n",
    "other_five_df.count()"
   ]
  },
  {
   "cell_type": "code",
   "execution_count": 37,
   "metadata": {
    "colab": {
     "base_uri": "https://localhost:8080/"
    },
    "id": "sISdgZ9hSUym",
    "outputId": "554452da-a234-46c1-ecad-9afba3db3df4"
   },
   "outputs": [
    {
     "name": "stdout",
     "output_type": "stream",
     "text": [
      "45.05%\n"
     ]
    }
   ],
   "source": [
    "# Percentage of paid (Vine Program) 5-star reviews\n",
    "\n",
    "paid_5star_review_percent = vine_five_df.count() / vine_yes_df.count() *100\n",
    "\n",
    "print(str(round(paid_5star_review_percent,2))+ \"%\")"
   ]
  },
  {
   "cell_type": "code",
   "execution_count": 38,
   "metadata": {
    "colab": {
     "base_uri": "https://localhost:8080/"
    },
    "id": "nelVIY0zUHtk",
    "outputId": "18a1796e-2439-40d5-91e8-73b314712a74"
   },
   "outputs": [
    {
     "name": "stdout",
     "output_type": "stream",
     "text": [
      "61.76%\n"
     ]
    }
   ],
   "source": [
    "# Percentage of unpaid 5-star reviews\n",
    "unpaid_5star_review_percent = other_five_df.count() / vine_no_df.count() *100\n",
    "\n",
    "print(str(round(unpaid_5star_review_percent,2))+ \"%\")"
   ]
  },
  {
   "cell_type": "code",
   "execution_count": null,
   "metadata": {
    "id": "9Ypv5avSPzok"
   },
   "outputs": [],
   "source": []
  }
 ],
 "metadata": {
  "colab": {
   "name": "Vine_Review_Analysis.ipynb",
   "provenance": []
  },
  "kernelspec": {
   "display_name": "Python 3",
   "language": "python",
   "name": "python3"
  },
  "language_info": {
   "codemirror_mode": {
    "name": "ipython",
    "version": 3
   },
   "file_extension": ".py",
   "mimetype": "text/x-python",
   "name": "python",
   "nbconvert_exporter": "python",
   "pygments_lexer": "ipython3",
   "version": "3.7.9"
  }
 },
 "nbformat": 4,
 "nbformat_minor": 1
}
